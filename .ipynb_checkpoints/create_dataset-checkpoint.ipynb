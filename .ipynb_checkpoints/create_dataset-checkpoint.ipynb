{
 "cells": [
  {
   "cell_type": "code",
   "execution_count": 1,
   "id": "92f4a307-7690-4b73-b8db-fd113be0cefb",
   "metadata": {},
   "outputs": [],
   "source": [
    "import pandas as pd\n",
    "import time \n",
    "import warnings\n",
    "from tqdm.notebook import trange, tqdm\n",
    "from os import listdir\n",
    "from os.path import isfile, join\n",
    "import glob\n",
    "warnings.filterwarnings('ignore')"
   ]
  },
  {
   "cell_type": "code",
   "execution_count": 2,
   "id": "b0615741-2713-4627-9631-9887ad8a516b",
   "metadata": {},
   "outputs": [],
   "source": [
    "def create_base_set(check_version):\n",
    "    pipe_sort_info_p1 = pd.read_excel(\"Add_files/Выгрузка сортамент апрель-май СТЗ Т1 (1).xlsx\")\n",
    "    pipe_sort_info_p2 = pd.read_csv(\"Add_files/Сортамент FQM 1.06.2023-1.09.2023.csv\")\n",
    "    pipe_sort_info_p2.drop(columns=[\"Смена\"],inplace=True)\n",
    "    pipe_sort_info_p2.rename(columns={\"Начало прокатки\": \"Начало проката\", \"Конец прокатки\": \"Конец проката\"},inplace = True)\n",
    "    pipe_sort_info = pd.concat([pipe_sort_info_p1,pipe_sort_info_p2], ignore_index=True)\n",
    "    pipe_sort_info.drop(columns=[\"Id\"],inplace=True)\n",
    "    pipe_sort_info[\"Начало проката\"] = pipe_sort_info[\"Начало проката\"].apply(lambda x: pd.to_datetime(x[:-3]))\n",
    "    pipe_sort_info[\"Конец проката\"] = pipe_sort_info[\"Конец проката\"].apply(lambda x: pd.to_datetime(x[:-3]))\n",
    "    pipe_sort_info[\"Номер плавки\"] = pipe_sort_info[\"Номер плавки\"].astype('int32')\n",
    "    pipe_sort_info[\"Марка стали\"] = pipe_sort_info[\"Марка стали\"].astype(str)\n",
    "    pipe_sort_info[\"Диаметр\"] = pipe_sort_info[\"Диаметр\"].astype('float32')\n",
    "    pipe_sort_info[\"Толщина стенки\"] = pipe_sort_info[\"Толщина стенки\"].astype('float32')\n",
    "    pipe_sort_info[\"Начало проката\"] = pipe_sort_info[\"Начало проката\"]+ pd.DateOffset(hours=5)\n",
    "    pipe_sort_info[\"Конец проката\"] = pipe_sort_info[\"Конец проката\"]+ pd.DateOffset(hours=5)\n",
    "    DF23_p1 = pd.read_excel(\"Add_files/Анализ простоев УГП 2023 (по июнь).xlsx\",header = 1)\n",
    "    DF23_p2 = pd.read_excel(\"Add_files/Анализ простоев УГП и.нь-сентябрь.xlsx\",header = 1)\n",
    "    DF_ALL = pd.concat([DF23_p1, DF23_p2], ignore_index=True)\n",
    "    DF_ALL[\"Участок\"] = DF_ALL[\"Участок\"].fillna(method='ffill')\n",
    "    DF_ALL = DF_ALL.where(DF_ALL[\"Участок\"] ==\"LD41: Непрерывный стан/стан-извлекатель\").dropna().reset_index(drop=True)\n",
    "    DF_ALL = DF_ALL.where(DF_ALL[\"Причина простоя\"] ==\"извлечение недоката\").dropna().reset_index(drop=True)\n",
    "    DF_ALL = DF_ALL[[\"Дата\",\"Продол., час:мин\",\"Причина простоя\"]]\n",
    "    DF_ALL[\"Дата\"] = DF_ALL[\"Дата\"].apply(lambda x: pd.to_datetime(x))\n",
    "    j = 0\n",
    "    k = len(DF_ALL)\n",
    "    pipe_sort_info[\"Target\"] = 0\n",
    "    pipe_sort_info[\"Timedelta_bw_n_t\"] = -1\n",
    "    pipe_sort_info[\"Продол., час:мин\"] = \"\"\t\n",
    "    pipe_sort_info[\"Причина простоя\"] = \"\"\n",
    "    for i in range(len(pipe_sort_info)):\n",
    "        if j >= k:\n",
    "            break\n",
    "        if (DF_ALL[\"Дата\"][j] > pipe_sort_info[\"Конец проката\"][i]):\n",
    "            pipe_sort_info[\"Timedelta_bw_n_t\"][i] = (DF_ALL[\"Дата\"][j] - pipe_sort_info[\"Конец проката\"][i])\n",
    "            if pipe_sort_info[\"Timedelta_bw_n_t\"][i] <= pd.Timedelta(1, \"d\"):            \n",
    "                pipe_sort_info[\"Target\"][i] = 1\n",
    "                pipe_sort_info[\"Продол., час:мин\"][i] = DF_ALL[\"Продол., час:мин\"][j]\n",
    "                pipe_sort_info[\"Причина простоя\"][i] = DF_ALL[\"Причина простоя\"][j]\n",
    "        else:         \n",
    "            j+=1\n",
    "    pipe_sort_info[\"Начало проката\"] = pipe_sort_info[\"Начало проката\"].dt.round(\"50ms\")\n",
    "    pipe_sort_info[\"Конец проката\"] = pipe_sort_info[\"Конец проката\"].dt.round(\"50ms\")\n",
    "    return pipe_sort_info"
   ]
  },
  {
   "cell_type": "code",
   "execution_count": 3,
   "id": "2fd8c289-1f22-4025-9cce-3601646fc748",
   "metadata": {},
   "outputs": [],
   "source": [
    "def prepare_per_month_with_time_lag(month_list,time_lag):\n",
    "    \"\"\" Описание метода\"\"\"\n",
    "    #base_set = create_base_set(0)\n",
    "    base_set = pd.read_csv(\"CSV\\\\roll_listmay_part.csv\")\n",
    "    base_set[\"Начало проката\"] = base_set[\"Начало проката\"].apply(lambda x: pd.to_datetime(x))\n",
    "    for month in month_list:\n",
    "        print(month)\n",
    "        txt_list = glob.glob(\"CSV/*\"+month+\".txt\")        \n",
    "        for rolls in tqdm(txt_list):\n",
    "            if rolls in ['CSV\\\\DRV_01__06_apr.txt', 'CSV\\\\FQM1_01_02_03_04_05_TORQ_apr.txt', 'CSV\\\\MULTI_pyro_temp_apr.txt', 'CSV\\\\others_apr.txt', 'CSV\\\\Stand_01_02_03_04_05_Force_apr.txt']:\n",
    "                continue\n",
    "            roll_list = pd.read_csv(rolls, sep = \";\",header = 1)\n",
    "            roll_list[\"time\"] = pd.to_datetime(roll_list[\"time\"], format='mixed',dayfirst=True)\n",
    "            roll_list[\"time\"] = roll_list[\"time\"].dt.round(\"50ms\")           \n",
    "            roll_list.index = roll_list.time\n",
    "            roll_list.drop(columns=['time'],inplace = True)\n",
    "            column_list = roll_list.columns\n",
    "            for columns in tqdm(column_list):\n",
    "                try:\n",
    "                    roll_list[columns] = roll_list[columns].astype('float32')\n",
    "                except ValueError:\n",
    "                    roll_list[columns] = roll_list[columns].str.replace(\",\",\".\").astype('float32')\n",
    "                roll_list[columns + \"_max\"] = roll_list[columns].rolling(time_lag, min_periods=1).max()                \n",
    "                roll_list[columns + \"_min\"] = roll_list[columns].rolling(time_lag, min_periods=1).min()\n",
    "                roll_list[columns + \"_mean\"] = roll_list[columns].rolling(time_lag, min_periods=1).mean()\n",
    "                roll_list[columns + \"_median\"] = roll_list[columns].rolling(time_lag, min_periods=1).median()\n",
    "                roll_list[columns + \"_std\"] = roll_list[columns].rolling(time_lag, min_periods=1).std()                \n",
    "            base_set = pd.merge(base_set,roll_list,how='left',left_on=\"Начало проката\",right_on=roll_list.index,suffixes=('_z','_b'))\n",
    "            for columns in tqdm(column_list):\n",
    "                for lags in range(int(time_lag[:-1])*20, 1728020 - int(time_lag[:-1])*20, int(time_lag[:-1])*80):\n",
    "                    try:\n",
    "                        base_set[columns+ \"_lag_\"+ str(lags)] = base_set[columns].shift(lags)\n",
    "                    except KeyError:\n",
    "                        print(columns,base_set.columns) \n",
    "                    try:\n",
    "                        base_set[columns + \"_max\"+ \"_lag_\"+ str(lags)] = base_set[columns + \"_max\"].shift(lags)\n",
    "                    except KeyError:\n",
    "                        print(columns,base_set.columns)\n",
    "                    try:\n",
    "                        base_set[columns + \"_min\"+ \"_lag_\"+ str(lags)] = base_set[columns + \"_min\"].shift(lags)\n",
    "                    except KeyError:\n",
    "                        print(columns,base_set.columns)\n",
    "                    try:\n",
    "                        base_set[columns + \"_mean\"+ \"_lag_\"+ str(lags)] = base_set[columns + \"_mean\"].shift(lags)\n",
    "                    except KeyError:\n",
    "                        print(columns,base_set.columns)\n",
    "                    try:\n",
    "                        base_set[columns + \"_median\"+ \"_lag_\"+ str(lags)] = base_set[columns + \"_median\"].shift(lags)\n",
    "                    except KeyError:\n",
    "                        print(columns,base_set.columns)\n",
    "                    try:\n",
    "                        base_set[columns + \"_std\"+ \"_lag_\"+ str(lags)] = base_set[columns + \"_std\"].shift(lags)\n",
    "                    except KeyError:\n",
    "                        print(columns,base_set.columns)\n",
    "            base_set.to_csv(\"CSV/roll_list\"+month+\"_part.csv\")\n",
    "            \n",
    "    base_set.to_csv(\"CSV/roll_list_all.csv\")\n",
    "    return base_set"
   ]
  },
  {
   "cell_type": "markdown",
   "id": "2a0c2983-3ed8-4625-8579-fff6aa3b7e39",
   "metadata": {},
   "source": [
    "\"apr\",\"may\","
   ]
  },
  {
   "cell_type": "code",
   "execution_count": null,
   "id": "3e83e373-9819-43ab-9226-dd3090f1a515",
   "metadata": {},
   "outputs": [
    {
     "name": "stdout",
     "output_type": "stream",
     "text": [
      "jul\n"
     ]
    },
    {
     "data": {
      "application/vnd.jupyter.widget-view+json": {
       "model_id": "a9b3688d07dd4500a190453edb98a03c",
       "version_major": 2,
       "version_minor": 0
      },
      "text/plain": [
       "  0%|          | 0/9 [00:00<?, ?it/s]"
      ]
     },
     "metadata": {},
     "output_type": "display_data"
    },
    {
     "data": {
      "application/vnd.jupyter.widget-view+json": {
       "model_id": "4c32c817bcf24b7c8b84fb63fab2e52e",
       "version_major": 2,
       "version_minor": 0
      },
      "text/plain": [
       "  0%|          | 0/11 [00:00<?, ?it/s]"
      ]
     },
     "metadata": {},
     "output_type": "display_data"
    },
    {
     "data": {
      "application/vnd.jupyter.widget-view+json": {
       "model_id": "c891281f8dcb4fcc98143c30d231e9ce",
       "version_major": 2,
       "version_minor": 0
      },
      "text/plain": [
       "  0%|          | 0/11 [00:00<?, ?it/s]"
      ]
     },
     "metadata": {},
     "output_type": "display_data"
    }
   ],
   "source": [
    "prepare_per_month_with_time_lag([\"jul\"],\"900s\")"
   ]
  },
  {
   "cell_type": "code",
   "execution_count": null,
   "id": "d8f029c4-8f4e-4802-b29c-113e1d6a31f2",
   "metadata": {},
   "outputs": [],
   "source": [
    "glob.glob(\"CSV/*\"+\"jul\"+\".txt\")"
   ]
  },
  {
   "cell_type": "code",
   "execution_count": null,
   "id": "b727d135-1cf6-42ad-a688-8a3f57872d58",
   "metadata": {},
   "outputs": [],
   "source": [
    "roll_list = pd.read_csv('CSV\\\\Stand_01_02_03_04_05_Pos_apr.txt', sep = \";\",header = 1)"
   ]
  },
  {
   "cell_type": "code",
   "execution_count": null,
   "id": "1bb97a7a-2864-4ef9-b134-22867541e549",
   "metadata": {},
   "outputs": [],
   "source": [
    "base_set = pd.read_csv(\"CSV\\\\roll_listapr_part.csv\")"
   ]
  },
  {
   "cell_type": "code",
   "execution_count": null,
   "id": "200d24ec-e269-4581-a402-7275224dd040",
   "metadata": {},
   "outputs": [],
   "source": [
    "base_set.info()"
   ]
  },
  {
   "cell_type": "code",
   "execution_count": null,
   "id": "0090d746-0dc0-4c29-be67-1a9d995752aa",
   "metadata": {},
   "outputs": [],
   "source": [
    "roll_list[\"time\"] = pd.to_datetime(roll_list[\"time\"], format='mixed',dayfirst=True)\n",
    "roll_list[\"time\"] = roll_list[\"time\"].dt.round(\"50ms\") \n",
    "roll_list.index = roll_list.time\n",
    "roll_list.drop(columns=['time'],inplace = True)"
   ]
  },
  {
   "cell_type": "code",
   "execution_count": null,
   "id": "332d6927-08e9-46fe-8e43-dbf3ede0560f",
   "metadata": {},
   "outputs": [],
   "source": [
    "roll_list"
   ]
  },
  {
   "cell_type": "code",
   "execution_count": null,
   "id": "f381ab97-05bf-422a-92ec-a21747f3ffcd",
   "metadata": {},
   "outputs": [],
   "source": []
  }
 ],
 "metadata": {
  "kernelspec": {
   "display_name": "Python 3 (ipykernel)",
   "language": "python",
   "name": "python3"
  },
  "language_info": {
   "codemirror_mode": {
    "name": "ipython",
    "version": 3
   },
   "file_extension": ".py",
   "mimetype": "text/x-python",
   "name": "python",
   "nbconvert_exporter": "python",
   "pygments_lexer": "ipython3",
   "version": "3.11.5"
  }
 },
 "nbformat": 4,
 "nbformat_minor": 5
}
