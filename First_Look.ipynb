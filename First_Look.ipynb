{
 "cells": [
  {
   "cell_type": "code",
   "execution_count": 1,
   "id": "fdd6dea4-5c9d-4677-8de0-e89c850bf50e",
   "metadata": {},
   "outputs": [],
   "source": [
    "import pandas as pd\n",
    "import time \n",
    "import warnings\n",
    "from tqdm.notebook import trange, tqdm\n",
    "from os import listdir\n",
    "from os.path import isfile, join\n",
    "import glob\n",
    "import datetime\n",
    "warnings.filterwarnings('ignore')"
   ]
  },
  {
   "cell_type": "markdown",
   "id": "644a7f88",
   "metadata": {},
   "source": [
    "pd.set_option('display.max_rows', 500)\n",
    "pd.set_option('display.max_columns', 500)"
   ]
  },
  {
   "cell_type": "code",
   "execution_count": 2,
   "id": "c91eb484-627e-40e0-98b0-bce04efd4798",
   "metadata": {},
   "outputs": [],
   "source": [
    "vocab = {\n",
    "    0 : 'Пн',\n",
    "    1 : 'Вт',\n",
    "    2 : 'Ср',\n",
    "    3 : 'Чт',\n",
    "    4 : 'Пт',\n",
    "    5 : 'Сб',\n",
    "    6 : 'Вс'\n",
    "}\n",
    "weather_dict = {\n",
    "    \"akjar\":        \"Погода/Акъяр.xlsx\",\n",
    "    \"borovoe\":      \"Погода/Боровое.xlsx\",\n",
    "    \"bredy\":        \"Погода/Бреды.xlsx\",\n",
    "    \"krasnoepole\":  \"Погода/Красноеполе.xlsx\",\n",
    "    \"orsk\":         \"Погода/Орск.xlsx\",\n",
    "    \"pogoda\":       \"Погода/Погода p2.xlsx\",\n",
    "    \"chelyabinsk\":  \"Погода/Челябинск.xlsx\",\n",
    "    \"youjnostep\":   \"Погода/Южно-Степное.xlsx\",\n",
    "    \"magnitogorsk\": \"Погода/7Магнитогорскойптицефабрики(Первомайский).xlsx\",\n",
    "}\n"
   ]
  },
  {
   "cell_type": "code",
   "execution_count": 3,
   "id": "b63af2fe-28ae-4c46-bc07-6636924e9941",
   "metadata": {},
   "outputs": [],
   "source": [
    "def create_target_set(target_name, how_to_shift, hours = 48):\n",
    "    Target_KS = pd.read_csv(target_name+\"P_in_out.csv\",sep = \";\")\n",
    "    Target_KS[\"DateTime\"] = pd.to_datetime(Target_KS[\"DateTime\"])   \n",
    "    Target_KS[\"dayofweek\"] = Target_KS[\"DateTime\"].dt.dayofweek\n",
    "    Target_KS[\"Pin\"] = Target_KS[\"Pin\"].str.replace(\",\",\".\").astype('float32')\n",
    "    Target_KS[\"Pout\"] = Target_KS[\"Pout\"].str.replace(\",\",\".\").astype('float32')\n",
    "    abs = pd.DataFrame()\n",
    "    abs[\"DateTime\"] = pd.date_range(Target_KS[\"DateTime\"].min(), periods=((Target_KS[\"DateTime\"].max() - Target_KS[\"DateTime\"].min()).seconds/3600 + (Target_KS[\"DateTime\"].max() - Target_KS[\"DateTime\"].min()).days*24 +1), freq=\"h\")\n",
    "    Target_KS = pd.merge(abs,Target_KS,how='left',on=\"DateTime\")\n",
    "    Target_KS = Target_KS.ffill() #Тут заполнение пропусков чтобы дискретность была час     \n",
    "    if how_to_shift == \"1\":\n",
    "        Target_KS.loc[Target_KS['dayofweek'] == 0,'DateTime'] -= pd.DateOffset(hours=72)   \n",
    "        Target_KS.loc[Target_KS['dayofweek'] == 1,'DateTime'] -= pd.DateOffset(hours=96) \n",
    "        Target_KS.loc[Target_KS['dayofweek'] == 2,'DateTime'] -= pd.DateOffset(hours=48)\n",
    "        Target_KS.loc[Target_KS['dayofweek'] == 3,'DateTime'] -= pd.DateOffset(hours=48)\n",
    "        Target_KS.loc[Target_KS['dayofweek'] == 4,'DateTime'] -= pd.DateOffset(hours=48)\n",
    "        Target_KS.loc[Target_KS['dayofweek'] == 5,'DateTime'] -= pd.DateOffset(hours=48)\n",
    "        Target_KS.loc[Target_KS['dayofweek'] == 6,'DateTime'] -= pd.DateOffset(hours=48)\n",
    "        Target_KS[\"dayofweek\"] = Target_KS[\"DateTime\"].dt.dayofweek\n",
    "        Target_KS[\"dayofweek\"] = Target_KS[\"dayofweek\"].replace(vocab, regex=True)\n",
    "        Target_KS.columns = [f'{c}_'+ target_name if c!=\"DateTime\" else c for c in Target_KS]\n",
    "        Target_KS = Target_KS.drop(Target_KS[(Target_KS[\"DateTime\"].dt.year < 2021)].index)\n",
    "        return Target_KS\n",
    "    elif how_to_shift == \"2\":\n",
    "        Target_KS['DateTime'] -= pd.DateOffset(hours=hours)\n",
    "        Target_KS[\"dayofweek\"] = Target_KS[\"DateTime\"].dt.dayofweek\n",
    "        Target_KS[\"dayofweek\"] = Target_KS[\"dayofweek\"].replace(vocab, regex=True)\n",
    "        Target_KS.rename(columns={\"Pin\": \"Pin_lag_\"+str(hours)+\"h\", \"Pout\": \"Pout_lag_\"+str(hours)+\"h\"}, inplace = True)\n",
    "        Target_KS.columns = [f'{c}_'+ target_name if c!=\"DateTime\" else c for c in Target_KS]\n",
    "        Target_KS = Target_KS.drop(Target_KS[(Target_KS[\"DateTime\"].dt.year < 2021)].index)\n",
    "        return Target_KS\n",
    "    else:        \n",
    "        Target_KS[\"dayofweek\"] = Target_KS[\"dayofweek\"].replace(vocab, regex=True)\n",
    "        Target_KS.columns = [f'{c}_'+ target_name if c!=\"DateTime\" else c for c in Target_KS]\n",
    "        return Target_KS\n",
    "   \n",
    "    "
   ]
  },
  {
   "cell_type": "code",
   "execution_count": 4,
   "id": "74be8cef-8892-4107-b58e-be110ee274f2",
   "metadata": {},
   "outputs": [],
   "source": [
    "def prepare_dataset(target_name, how_to_shift_target,hours = 48):\n",
    "    grs_list = glob.glob(\"ГРС/*\")\n",
    "    auto_plan_list = glob.glob(\"Автоплан/*\")\n",
    "    target_set = create_target_set(target_name, how_to_shift_target,hours)\n",
    "    schema_info = pd.read_csv(target_name+\".csv\",sep = \";\")\n",
    "    schema_info[\"DateTime\"] = pd.to_datetime(schema_info[\"DateTime\"])\n",
    "    target_set = pd.merge(target_set,schema_info,how='left',on=\"DateTime\")\n",
    "    for grs in tqdm(grs_list):\n",
    "        feature = pd.read_csv(grs, sep = \";\")\n",
    "        feature[\"DateTime\"] = pd.to_datetime(feature[\"DateTime\"])\n",
    "        for col in feature.columns:\n",
    "            if col == \"DateTime\":\n",
    "                continue \n",
    "            try:\n",
    "                feature[col] = feature[col].astype('float32')\n",
    "            except ValueError:\n",
    "                feature[col] = feature[col].str.replace(\",\",\".\").astype('float32')        \n",
    "        feature.columns = [f'{c}_'+ grs.split(\"\\\\\")[1][:-4] if c!=\"DateTime\" else c for c in feature]\n",
    "        target_set = pd.merge(target_set,feature,how='left',on=\"DateTime\")\n",
    "    for auto_list in tqdm(auto_plan_list):\n",
    "        feature = pd.read_csv(auto_list, sep = \";\")\n",
    "        if \"Date\" in feature.columns:\n",
    "            feature[\"Data\"] = feature[\"Date\"]\n",
    "            feature.drop(columns=[\"Date\"],inplace=True)\n",
    "        try:\n",
    "            feature[\"DateTime\"] = pd.to_datetime(feature[\"Data\"])\n",
    "        except KeyError:\n",
    "            continue\n",
    "        feature.drop(columns=[\"Data\"],inplace=True)\n",
    "        feature[\"DateTime\"] = pd.to_datetime(feature[\"DateTime\"])\n",
    "        for col in feature.columns:\n",
    "            if \"Login\" in feature.columns:\n",
    "                break\n",
    "            if col == \"DateTime\":\n",
    "                continue \n",
    "            try:\n",
    "                feature[col] = feature[col].astype('float32')\n",
    "            except ValueError:\n",
    "                feature[col] = feature[col].str.replace(\",\",\".\").astype('float32')   \n",
    "        feature.columns = [f'{c}_'+ auto_list.split(\"\\\\\")[1][:-4] if c!=\"DateTime\" else c for c in feature]\n",
    "        target_set = pd.merge(target_set,feature,how='left',on=\"DateTime\")\n",
    "    return target_set\n",
    "        \n",
    "    "
   ]
  },
  {
   "cell_type": "code",
   "execution_count": 5,
   "id": "ff871a9a",
   "metadata": {},
   "outputs": [],
   "source": [
    "def correct_data_into_value(date):\n",
    "    if type(date) == type(datetime.datetime(2024, 2, 13, 0, 0)):\n",
    "        return str(f\"{date.day}.{date.month%12}\")\n",
    "    return date"
   ]
  },
  {
   "cell_type": "code",
   "execution_count": 6,
   "id": "6ef30e4f-988d-45c7-815d-62e83935976d",
   "metadata": {},
   "outputs": [],
   "source": [
    "def prepare_weather_dict_dataset():\n",
    "   weather_dfs = {}\n",
    "   for key, value in tqdm(weather_dict.items()):\n",
    "       active_df = pd.ExcelFile(value)\n",
    "       print(active_df.sheet_names)\n",
    "       for i in tqdm(active_df.sheet_names):\n",
    "           if len(active_df.sheet_names) < 2:\n",
    "               weather_dfs.update({key: {i: pd.read_excel(value,  sheet_name=i)}})\n",
    "           else:\n",
    "               for j in active_df.sheet_names:\n",
    "                   weather_dfs.update({f\"{key}_{j}\": {j: pd.read_excel(value,  sheet_name=j)}})\n",
    "   test_df = weather_dfs\n",
    "   for i in tqdm(weather_dfs.keys()):\n",
    "       for j in tqdm(weather_dfs[i].keys()):\n",
    "           print(f\"----{i}----\")\n",
    "           first_column = 1\n",
    "           for k in weather_dfs[i][j]:\n",
    "               if first_column == 1:\n",
    "                   first_column = 0\n",
    "                   continue\n",
    "               test_df[i][j][k] = weather_dfs[i][j][k].apply(lambda x: correct_data_into_value(x)).astype(\"float32\")\n",
    "   del weather_dfs\n",
    "   return test_df"
   ]
  },
  {
   "cell_type": "code",
   "execution_count": 7,
   "id": "b922d10f",
   "metadata": {},
   "outputs": [],
   "source": [
    "def prepare_and_set_shift_and_lags(target_set, weather_set):\n",
    "    if target_set[\"PNA\"].dtype == \"object\":\n",
    "        target_set[\"PNA\"] = target_set[\"PNA\"].str.replace(\",\",\".\").astype('float32')\n",
    "    else:\n",
    "        target_set[\"PNA\"] = target_set[\"PNA\"].astype('float32')\n",
    "    target_set['Day'] = target_set[\"DateTime\"].dt.day\n",
    "    target_set['Month'] = target_set[\"DateTime\"].dt.month\n",
    "    target_set['Year'] = target_set[\"DateTime\"].dt.year\n",
    "    target_set['Hour'] = target_set[\"DateTime\"].dt.hour\n",
    "    target_set.columns = target_set.columns.str.replace(r\"\\n\", \"_\", regex=True)\n",
    "    for i in weather_set.keys():\n",
    "        for j in weather_set[i].keys():\n",
    "            buffer = weather_set[i][j].rename(lambda x: x+ (\"_\"+ i  )*int( x != \"Дата\"), axis='columns')\n",
    "            for columns in tqdm(buffer.columns):\n",
    "                if columns == \"Дата\":\n",
    "                    buffer['Day'] = buffer[\"Дата\"].dt.day\n",
    "                    buffer['Month'] = buffer[\"Дата\"].dt.month\n",
    "                    buffer['Year'] = buffer[\"Дата\"].dt.year\n",
    "                    continue\n",
    "                if buffer[columns].dtype == \"float64\":\n",
    "                    buffer[columns] = buffer[columns].astype(\"float32\")\n",
    "                if buffer[columns].dtype == \"float32\":\n",
    "                    buffer[columns + \"_rolling_3\"] = buffer[columns].rolling(3, min_periods = 1, center = False).sum()\n",
    "                # buffer[\"Date\"] = pd.to_datetime(buffer[\"Date\"], format=\"\"\n",
    "            buffer[columns + \"_lag_1\"] = buffer[columns].shift(1)\n",
    "            buffer[columns + \"_lag_2\"] = buffer[columns].shift(2)\n",
    "            buffer[columns + \"_lag_3\"] = buffer[columns].shift(3)\n",
    "            buffer[columns + \"_lag_7\"] = buffer[columns].shift(7)\n",
    "\n",
    "\n",
    "            buffer.drop(columns=[\"Дата\"], inplace=True)\n",
    "            \n",
    "            target_set = pd.merge(target_set, buffer, on=[\"Year\",\"Month\",\"Day\"])\n",
    "    del buffer\n",
    "    target_set.columns = target_set.columns.str.replace(r\"\\n\", \"_\", regex=True)\n",
    "    target_set[target_set.select_dtypes(include=['float64']).columns] = target_set[target_set.select_dtypes(include=['float64']).columns].astype(\"float32\")\n",
    "    return target_set"
   ]
  },
  {
   "cell_type": "code",
   "execution_count": 8,
   "id": "972ac947-c67e-4424-b61d-e7507ccf25dc",
   "metadata": {
    "scrolled": true
   },
   "outputs": [
    {
     "data": {
      "application/vnd.jupyter.widget-view+json": {
       "model_id": "e8c882127129437c8a2b7ac56bc009fe",
       "version_major": 2,
       "version_minor": 0
      },
      "text/plain": [
       "  0%|          | 0/119 [00:00<?, ?it/s]"
      ]
     },
     "metadata": {},
     "output_type": "display_data"
    },
    {
     "data": {
      "application/vnd.jupyter.widget-view+json": {
       "model_id": "c71eddcb45124b46a7a35c4d88616a2b",
       "version_major": 2,
       "version_minor": 0
      },
      "text/plain": [
       "  0%|          | 0/10 [00:00<?, ?it/s]"
      ]
     },
     "metadata": {},
     "output_type": "display_data"
    }
   ],
   "source": [
    "t_set = prepare_dataset(\"КС-16\", \"2\")"
   ]
  },
  {
   "cell_type": "code",
   "execution_count": 9,
   "id": "4c13d712",
   "metadata": {},
   "outputs": [
    {
     "data": {
      "application/vnd.jupyter.widget-view+json": {
       "model_id": "3d38582c5ead4bbabb3ab7b4d0788cbd",
       "version_major": 2,
       "version_minor": 0
      },
      "text/plain": [
       "  0%|          | 0/9 [00:00<?, ?it/s]"
      ]
     },
     "metadata": {},
     "output_type": "display_data"
    },
    {
     "name": "stdout",
     "output_type": "stream",
     "text": [
      "['Лист1']\n"
     ]
    },
    {
     "data": {
      "application/vnd.jupyter.widget-view+json": {
       "model_id": "223792ef43a94c64927e5fde7ee58815",
       "version_major": 2,
       "version_minor": 0
      },
      "text/plain": [
       "  0%|          | 0/1 [00:00<?, ?it/s]"
      ]
     },
     "metadata": {},
     "output_type": "display_data"
    },
    {
     "name": "stdout",
     "output_type": "stream",
     "text": [
      "['Лист1']\n"
     ]
    },
    {
     "data": {
      "application/vnd.jupyter.widget-view+json": {
       "model_id": "5712a3f74aab4907a1794792dc985bd2",
       "version_major": 2,
       "version_minor": 0
      },
      "text/plain": [
       "  0%|          | 0/1 [00:00<?, ?it/s]"
      ]
     },
     "metadata": {},
     "output_type": "display_data"
    },
    {
     "name": "stdout",
     "output_type": "stream",
     "text": [
      "['Лист1']\n"
     ]
    },
    {
     "data": {
      "application/vnd.jupyter.widget-view+json": {
       "model_id": "e01d8d83c266463d8cd10c9733a8c347",
       "version_major": 2,
       "version_minor": 0
      },
      "text/plain": [
       "  0%|          | 0/1 [00:00<?, ?it/s]"
      ]
     },
     "metadata": {},
     "output_type": "display_data"
    },
    {
     "name": "stdout",
     "output_type": "stream",
     "text": [
      "['Лист1']\n"
     ]
    },
    {
     "data": {
      "application/vnd.jupyter.widget-view+json": {
       "model_id": "0c80774f07aa4bf7ad524b0e00e9a1a2",
       "version_major": 2,
       "version_minor": 0
      },
      "text/plain": [
       "  0%|          | 0/1 [00:00<?, ?it/s]"
      ]
     },
     "metadata": {},
     "output_type": "display_data"
    },
    {
     "name": "stdout",
     "output_type": "stream",
     "text": [
      "['Лист1']\n"
     ]
    },
    {
     "data": {
      "application/vnd.jupyter.widget-view+json": {
       "model_id": "ccc14afdf5ca4e18a6b67353ed9c47ed",
       "version_major": 2,
       "version_minor": 0
      },
      "text/plain": [
       "  0%|          | 0/1 [00:00<?, ?it/s]"
      ]
     },
     "metadata": {},
     "output_type": "display_data"
    },
    {
     "name": "stdout",
     "output_type": "stream",
     "text": [
      "['Молжив', 'Солнечный', 'Троицк', 'темерязевское', 'долгодеревеское', 'Медведевский']\n"
     ]
    },
    {
     "data": {
      "application/vnd.jupyter.widget-view+json": {
       "model_id": "31108e045b304570b0ec589230c26cad",
       "version_major": 2,
       "version_minor": 0
      },
      "text/plain": [
       "  0%|          | 0/6 [00:00<?, ?it/s]"
      ]
     },
     "metadata": {},
     "output_type": "display_data"
    },
    {
     "name": "stdout",
     "output_type": "stream",
     "text": [
      "['Лист1']\n"
     ]
    },
    {
     "data": {
      "application/vnd.jupyter.widget-view+json": {
       "model_id": "b65a6ebc4f744de18c08cae1107fb9a4",
       "version_major": 2,
       "version_minor": 0
      },
      "text/plain": [
       "  0%|          | 0/1 [00:00<?, ?it/s]"
      ]
     },
     "metadata": {},
     "output_type": "display_data"
    },
    {
     "name": "stdout",
     "output_type": "stream",
     "text": [
      "['Лист1']\n"
     ]
    },
    {
     "data": {
      "application/vnd.jupyter.widget-view+json": {
       "model_id": "baf966c2c8a04eec91bb97a4e704222d",
       "version_major": 2,
       "version_minor": 0
      },
      "text/plain": [
       "  0%|          | 0/1 [00:00<?, ?it/s]"
      ]
     },
     "metadata": {},
     "output_type": "display_data"
    },
    {
     "name": "stdout",
     "output_type": "stream",
     "text": [
      "['Лист1']\n"
     ]
    },
    {
     "data": {
      "application/vnd.jupyter.widget-view+json": {
       "model_id": "8485deb7c36645ddbce29a2637bbb900",
       "version_major": 2,
       "version_minor": 0
      },
      "text/plain": [
       "  0%|          | 0/1 [00:00<?, ?it/s]"
      ]
     },
     "metadata": {},
     "output_type": "display_data"
    },
    {
     "data": {
      "application/vnd.jupyter.widget-view+json": {
       "model_id": "88b33270fd9441a89befb24f4a7f89ad",
       "version_major": 2,
       "version_minor": 0
      },
      "text/plain": [
       "  0%|          | 0/14 [00:00<?, ?it/s]"
      ]
     },
     "metadata": {},
     "output_type": "display_data"
    },
    {
     "data": {
      "application/vnd.jupyter.widget-view+json": {
       "model_id": "dae7fef1a0d242bb924c79a1fcc367f7",
       "version_major": 2,
       "version_minor": 0
      },
      "text/plain": [
       "  0%|          | 0/1 [00:00<?, ?it/s]"
      ]
     },
     "metadata": {},
     "output_type": "display_data"
    },
    {
     "name": "stdout",
     "output_type": "stream",
     "text": [
      "----akjar----\n"
     ]
    },
    {
     "data": {
      "application/vnd.jupyter.widget-view+json": {
       "model_id": "5ff82d4dafc0492b9684842bf73c3ef9",
       "version_major": 2,
       "version_minor": 0
      },
      "text/plain": [
       "  0%|          | 0/1 [00:00<?, ?it/s]"
      ]
     },
     "metadata": {},
     "output_type": "display_data"
    },
    {
     "name": "stdout",
     "output_type": "stream",
     "text": [
      "----borovoe----\n"
     ]
    },
    {
     "data": {
      "application/vnd.jupyter.widget-view+json": {
       "model_id": "1e4f2d2c64a341da92561535c6d7b48a",
       "version_major": 2,
       "version_minor": 0
      },
      "text/plain": [
       "  0%|          | 0/1 [00:00<?, ?it/s]"
      ]
     },
     "metadata": {},
     "output_type": "display_data"
    },
    {
     "name": "stdout",
     "output_type": "stream",
     "text": [
      "----bredy----\n"
     ]
    },
    {
     "data": {
      "application/vnd.jupyter.widget-view+json": {
       "model_id": "2f640cc9ace5460ba476086801b2dea0",
       "version_major": 2,
       "version_minor": 0
      },
      "text/plain": [
       "  0%|          | 0/1 [00:00<?, ?it/s]"
      ]
     },
     "metadata": {},
     "output_type": "display_data"
    },
    {
     "name": "stdout",
     "output_type": "stream",
     "text": [
      "----krasnoepole----\n"
     ]
    },
    {
     "data": {
      "application/vnd.jupyter.widget-view+json": {
       "model_id": "1e98c00bd84348b386eba3bc9ecae50d",
       "version_major": 2,
       "version_minor": 0
      },
      "text/plain": [
       "  0%|          | 0/1 [00:00<?, ?it/s]"
      ]
     },
     "metadata": {},
     "output_type": "display_data"
    },
    {
     "name": "stdout",
     "output_type": "stream",
     "text": [
      "----orsk----\n"
     ]
    },
    {
     "data": {
      "application/vnd.jupyter.widget-view+json": {
       "model_id": "6608b133c12c40ec8c38e2c693a26908",
       "version_major": 2,
       "version_minor": 0
      },
      "text/plain": [
       "  0%|          | 0/1 [00:00<?, ?it/s]"
      ]
     },
     "metadata": {},
     "output_type": "display_data"
    },
    {
     "name": "stdout",
     "output_type": "stream",
     "text": [
      "----pogoda_Молжив----\n"
     ]
    },
    {
     "data": {
      "application/vnd.jupyter.widget-view+json": {
       "model_id": "db56f3a509164c52bafaa9659b7199eb",
       "version_major": 2,
       "version_minor": 0
      },
      "text/plain": [
       "  0%|          | 0/1 [00:00<?, ?it/s]"
      ]
     },
     "metadata": {},
     "output_type": "display_data"
    },
    {
     "name": "stdout",
     "output_type": "stream",
     "text": [
      "----pogoda_Солнечный----\n"
     ]
    },
    {
     "data": {
      "application/vnd.jupyter.widget-view+json": {
       "model_id": "37f4d4c615794f34a81817756341f948",
       "version_major": 2,
       "version_minor": 0
      },
      "text/plain": [
       "  0%|          | 0/1 [00:00<?, ?it/s]"
      ]
     },
     "metadata": {},
     "output_type": "display_data"
    },
    {
     "name": "stdout",
     "output_type": "stream",
     "text": [
      "----pogoda_Троицк----\n"
     ]
    },
    {
     "data": {
      "application/vnd.jupyter.widget-view+json": {
       "model_id": "43fa182f8eec4f148e935074d2b5b8df",
       "version_major": 2,
       "version_minor": 0
      },
      "text/plain": [
       "  0%|          | 0/1 [00:00<?, ?it/s]"
      ]
     },
     "metadata": {},
     "output_type": "display_data"
    },
    {
     "name": "stdout",
     "output_type": "stream",
     "text": [
      "----pogoda_темерязевское----\n"
     ]
    },
    {
     "data": {
      "application/vnd.jupyter.widget-view+json": {
       "model_id": "68785fea8fa249baa6ccb54a7ea582ef",
       "version_major": 2,
       "version_minor": 0
      },
      "text/plain": [
       "  0%|          | 0/1 [00:00<?, ?it/s]"
      ]
     },
     "metadata": {},
     "output_type": "display_data"
    },
    {
     "name": "stdout",
     "output_type": "stream",
     "text": [
      "----pogoda_долгодеревеское----\n"
     ]
    },
    {
     "data": {
      "application/vnd.jupyter.widget-view+json": {
       "model_id": "ecfcc7fd5a154687a000325484525f0d",
       "version_major": 2,
       "version_minor": 0
      },
      "text/plain": [
       "  0%|          | 0/1 [00:00<?, ?it/s]"
      ]
     },
     "metadata": {},
     "output_type": "display_data"
    },
    {
     "name": "stdout",
     "output_type": "stream",
     "text": [
      "----pogoda_Медведевский----\n"
     ]
    },
    {
     "data": {
      "application/vnd.jupyter.widget-view+json": {
       "model_id": "46f1d532b45d46d1b1c8acf7dd0bfda3",
       "version_major": 2,
       "version_minor": 0
      },
      "text/plain": [
       "  0%|          | 0/1 [00:00<?, ?it/s]"
      ]
     },
     "metadata": {},
     "output_type": "display_data"
    },
    {
     "name": "stdout",
     "output_type": "stream",
     "text": [
      "----chelyabinsk----\n"
     ]
    },
    {
     "data": {
      "application/vnd.jupyter.widget-view+json": {
       "model_id": "b86839f27fa44dfd82b686fa6ca90b8d",
       "version_major": 2,
       "version_minor": 0
      },
      "text/plain": [
       "  0%|          | 0/1 [00:00<?, ?it/s]"
      ]
     },
     "metadata": {},
     "output_type": "display_data"
    },
    {
     "name": "stdout",
     "output_type": "stream",
     "text": [
      "----youjnostep----\n"
     ]
    },
    {
     "data": {
      "application/vnd.jupyter.widget-view+json": {
       "model_id": "6dc67747ec4146d98552acadb00f79af",
       "version_major": 2,
       "version_minor": 0
      },
      "text/plain": [
       "  0%|          | 0/1 [00:00<?, ?it/s]"
      ]
     },
     "metadata": {},
     "output_type": "display_data"
    },
    {
     "name": "stdout",
     "output_type": "stream",
     "text": [
      "----magnitogorsk----\n"
     ]
    }
   ],
   "source": [
    "weather_dfs = prepare_weather_dict_dataset()"
   ]
  },
  {
   "cell_type": "code",
   "execution_count": 10,
   "id": "6b640836",
   "metadata": {},
   "outputs": [
    {
     "data": {
      "application/vnd.jupyter.widget-view+json": {
       "model_id": "1bdabce18f684bf5ad05ba0e6b6838d3",
       "version_major": 2,
       "version_minor": 0
      },
      "text/plain": [
       "  0%|          | 0/8 [00:00<?, ?it/s]"
      ]
     },
     "metadata": {},
     "output_type": "display_data"
    },
    {
     "data": {
      "application/vnd.jupyter.widget-view+json": {
       "model_id": "77de8595f99f448f90ab8b4bd8fbdfb6",
       "version_major": 2,
       "version_minor": 0
      },
      "text/plain": [
       "  0%|          | 0/8 [00:00<?, ?it/s]"
      ]
     },
     "metadata": {},
     "output_type": "display_data"
    },
    {
     "data": {
      "application/vnd.jupyter.widget-view+json": {
       "model_id": "58a6d5c4ea45485586f86e7f468cf0d5",
       "version_major": 2,
       "version_minor": 0
      },
      "text/plain": [
       "  0%|          | 0/8 [00:00<?, ?it/s]"
      ]
     },
     "metadata": {},
     "output_type": "display_data"
    },
    {
     "data": {
      "application/vnd.jupyter.widget-view+json": {
       "model_id": "e99d1cbac0714bc59434700b5c14e835",
       "version_major": 2,
       "version_minor": 0
      },
      "text/plain": [
       "  0%|          | 0/8 [00:00<?, ?it/s]"
      ]
     },
     "metadata": {},
     "output_type": "display_data"
    },
    {
     "data": {
      "application/vnd.jupyter.widget-view+json": {
       "model_id": "ac5609dc123f4c64b3ff80f10a1d4bd5",
       "version_major": 2,
       "version_minor": 0
      },
      "text/plain": [
       "  0%|          | 0/8 [00:00<?, ?it/s]"
      ]
     },
     "metadata": {},
     "output_type": "display_data"
    },
    {
     "data": {
      "application/vnd.jupyter.widget-view+json": {
       "model_id": "1e7b2053405a418aa83c946a290d58f4",
       "version_major": 2,
       "version_minor": 0
      },
      "text/plain": [
       "  0%|          | 0/8 [00:00<?, ?it/s]"
      ]
     },
     "metadata": {},
     "output_type": "display_data"
    },
    {
     "data": {
      "application/vnd.jupyter.widget-view+json": {
       "model_id": "df85f7a6e581419ab001cb4cd7ba0525",
       "version_major": 2,
       "version_minor": 0
      },
      "text/plain": [
       "  0%|          | 0/8 [00:00<?, ?it/s]"
      ]
     },
     "metadata": {},
     "output_type": "display_data"
    },
    {
     "data": {
      "application/vnd.jupyter.widget-view+json": {
       "model_id": "2c7185bbd2b649e9a59dcf0089a23a8a",
       "version_major": 2,
       "version_minor": 0
      },
      "text/plain": [
       "  0%|          | 0/8 [00:00<?, ?it/s]"
      ]
     },
     "metadata": {},
     "output_type": "display_data"
    },
    {
     "data": {
      "application/vnd.jupyter.widget-view+json": {
       "model_id": "5a6ab866defd40a89814cd5f1adcb86a",
       "version_major": 2,
       "version_minor": 0
      },
      "text/plain": [
       "  0%|          | 0/8 [00:00<?, ?it/s]"
      ]
     },
     "metadata": {},
     "output_type": "display_data"
    },
    {
     "data": {
      "application/vnd.jupyter.widget-view+json": {
       "model_id": "30fdebbca74b455d8a0f1c189aedf81f",
       "version_major": 2,
       "version_minor": 0
      },
      "text/plain": [
       "  0%|          | 0/8 [00:00<?, ?it/s]"
      ]
     },
     "metadata": {},
     "output_type": "display_data"
    },
    {
     "data": {
      "application/vnd.jupyter.widget-view+json": {
       "model_id": "a9dcd1c2bed04e0c80f565e8e4295913",
       "version_major": 2,
       "version_minor": 0
      },
      "text/plain": [
       "  0%|          | 0/8 [00:00<?, ?it/s]"
      ]
     },
     "metadata": {},
     "output_type": "display_data"
    },
    {
     "data": {
      "application/vnd.jupyter.widget-view+json": {
       "model_id": "73d8b5f1cbbd43e3ba9adbcee56da39e",
       "version_major": 2,
       "version_minor": 0
      },
      "text/plain": [
       "  0%|          | 0/8 [00:00<?, ?it/s]"
      ]
     },
     "metadata": {},
     "output_type": "display_data"
    },
    {
     "data": {
      "application/vnd.jupyter.widget-view+json": {
       "model_id": "44de9d32c6f3497aa7d29f45075ca009",
       "version_major": 2,
       "version_minor": 0
      },
      "text/plain": [
       "  0%|          | 0/8 [00:00<?, ?it/s]"
      ]
     },
     "metadata": {},
     "output_type": "display_data"
    },
    {
     "data": {
      "application/vnd.jupyter.widget-view+json": {
       "model_id": "2cd6aa7ee92b4b57bff6de4b9ea49470",
       "version_major": 2,
       "version_minor": 0
      },
      "text/plain": [
       "  0%|          | 0/8 [00:00<?, ?it/s]"
      ]
     },
     "metadata": {},
     "output_type": "display_data"
    }
   ],
   "source": [
    "result = prepare_and_set_shift_and_lags(t_set, weather_dfs)"
   ]
  },
  {
   "cell_type": "code",
   "execution_count": 11,
   "id": "4d8a69f7",
   "metadata": {},
   "outputs": [
    {
     "data": {
      "text/html": [
       "<div>\n",
       "<style scoped>\n",
       "    .dataframe tbody tr th:only-of-type {\n",
       "        vertical-align: middle;\n",
       "    }\n",
       "\n",
       "    .dataframe tbody tr th {\n",
       "        vertical-align: top;\n",
       "    }\n",
       "\n",
       "    .dataframe thead th {\n",
       "        text-align: right;\n",
       "    }\n",
       "</style>\n",
       "<table border=\"1\" class=\"dataframe\">\n",
       "  <thead>\n",
       "    <tr style=\"text-align: right;\">\n",
       "      <th></th>\n",
       "      <th>DateTime</th>\n",
       "      <th>Object_КС-16</th>\n",
       "      <th>Pin_lag_48h_КС-16</th>\n",
       "      <th>Pout_lag_48h_КС-16</th>\n",
       "      <th>dayofweek_КС-16</th>\n",
       "      <th>Object</th>\n",
       "      <th>Tnv</th>\n",
       "      <th>GPAinwork</th>\n",
       "      <th>PNA</th>\n",
       "      <th>Schema1</th>\n",
       "      <th>...</th>\n",
       "      <th>Минимальная_температура_magnitogorsk_rolling_3</th>\n",
       "      <th>Средняя_температура_magnitogorsk_rolling_3</th>\n",
       "      <th>Атмосферное_давление_magnitogorsk_rolling_3</th>\n",
       "      <th>Скорость_ветра_magnitogorsk_rolling_3</th>\n",
       "      <th>Осадки_magnitogorsk_rolling_3</th>\n",
       "      <th>Эффективная_температура_magnitogorsk_rolling_3</th>\n",
       "      <th>Эффективная_температура_magnitogorsk_lag_1</th>\n",
       "      <th>Эффективная_температура_magnitogorsk_lag_2</th>\n",
       "      <th>Эффективная_температура_magnitogorsk_lag_3</th>\n",
       "      <th>Эффективная_температура_magnitogorsk_lag_7</th>\n",
       "    </tr>\n",
       "  </thead>\n",
       "  <tbody>\n",
       "    <tr>\n",
       "      <th>0</th>\n",
       "      <td>2021-01-01 00:00:00</td>\n",
       "      <td>6010.0</td>\n",
       "      <td>45.700001</td>\n",
       "      <td>45.700001</td>\n",
       "      <td>Пт</td>\n",
       "      <td>6010.0</td>\n",
       "      <td>-10.0</td>\n",
       "      <td>0.0</td>\n",
       "      <td>NaN</td>\n",
       "      <td>0.0</td>\n",
       "      <td>...</td>\n",
       "      <td>-20.4</td>\n",
       "      <td>-15.100000</td>\n",
       "      <td>992.400024</td>\n",
       "      <td>2.0</td>\n",
       "      <td>0.0</td>\n",
       "      <td>-19.4</td>\n",
       "      <td>NaN</td>\n",
       "      <td>NaN</td>\n",
       "      <td>NaN</td>\n",
       "      <td>NaN</td>\n",
       "    </tr>\n",
       "    <tr>\n",
       "      <th>1</th>\n",
       "      <td>2021-01-01 01:00:00</td>\n",
       "      <td>6010.0</td>\n",
       "      <td>45.700001</td>\n",
       "      <td>45.700001</td>\n",
       "      <td>Пт</td>\n",
       "      <td>NaN</td>\n",
       "      <td>NaN</td>\n",
       "      <td>NaN</td>\n",
       "      <td>NaN</td>\n",
       "      <td>NaN</td>\n",
       "      <td>...</td>\n",
       "      <td>-20.4</td>\n",
       "      <td>-15.100000</td>\n",
       "      <td>992.400024</td>\n",
       "      <td>2.0</td>\n",
       "      <td>0.0</td>\n",
       "      <td>-19.4</td>\n",
       "      <td>NaN</td>\n",
       "      <td>NaN</td>\n",
       "      <td>NaN</td>\n",
       "      <td>NaN</td>\n",
       "    </tr>\n",
       "    <tr>\n",
       "      <th>2</th>\n",
       "      <td>2021-01-01 02:00:00</td>\n",
       "      <td>6010.0</td>\n",
       "      <td>46.000000</td>\n",
       "      <td>46.000000</td>\n",
       "      <td>Пт</td>\n",
       "      <td>6010.0</td>\n",
       "      <td>-11.0</td>\n",
       "      <td>0.0</td>\n",
       "      <td>NaN</td>\n",
       "      <td>0.0</td>\n",
       "      <td>...</td>\n",
       "      <td>-20.4</td>\n",
       "      <td>-15.100000</td>\n",
       "      <td>992.400024</td>\n",
       "      <td>2.0</td>\n",
       "      <td>0.0</td>\n",
       "      <td>-19.4</td>\n",
       "      <td>NaN</td>\n",
       "      <td>NaN</td>\n",
       "      <td>NaN</td>\n",
       "      <td>NaN</td>\n",
       "    </tr>\n",
       "    <tr>\n",
       "      <th>3</th>\n",
       "      <td>2021-01-01 03:00:00</td>\n",
       "      <td>6010.0</td>\n",
       "      <td>46.000000</td>\n",
       "      <td>46.000000</td>\n",
       "      <td>Пт</td>\n",
       "      <td>NaN</td>\n",
       "      <td>NaN</td>\n",
       "      <td>NaN</td>\n",
       "      <td>NaN</td>\n",
       "      <td>NaN</td>\n",
       "      <td>...</td>\n",
       "      <td>-20.4</td>\n",
       "      <td>-15.100000</td>\n",
       "      <td>992.400024</td>\n",
       "      <td>2.0</td>\n",
       "      <td>0.0</td>\n",
       "      <td>-19.4</td>\n",
       "      <td>NaN</td>\n",
       "      <td>NaN</td>\n",
       "      <td>NaN</td>\n",
       "      <td>NaN</td>\n",
       "    </tr>\n",
       "    <tr>\n",
       "      <th>4</th>\n",
       "      <td>2021-01-01 04:00:00</td>\n",
       "      <td>6010.0</td>\n",
       "      <td>46.099998</td>\n",
       "      <td>46.099998</td>\n",
       "      <td>Пт</td>\n",
       "      <td>6010.0</td>\n",
       "      <td>-11.0</td>\n",
       "      <td>0.0</td>\n",
       "      <td>NaN</td>\n",
       "      <td>0.0</td>\n",
       "      <td>...</td>\n",
       "      <td>-20.4</td>\n",
       "      <td>-15.100000</td>\n",
       "      <td>992.400024</td>\n",
       "      <td>2.0</td>\n",
       "      <td>0.0</td>\n",
       "      <td>-19.4</td>\n",
       "      <td>NaN</td>\n",
       "      <td>NaN</td>\n",
       "      <td>NaN</td>\n",
       "      <td>NaN</td>\n",
       "    </tr>\n",
       "    <tr>\n",
       "      <th>...</th>\n",
       "      <td>...</td>\n",
       "      <td>...</td>\n",
       "      <td>...</td>\n",
       "      <td>...</td>\n",
       "      <td>...</td>\n",
       "      <td>...</td>\n",
       "      <td>...</td>\n",
       "      <td>...</td>\n",
       "      <td>...</td>\n",
       "      <td>...</td>\n",
       "      <td>...</td>\n",
       "      <td>...</td>\n",
       "      <td>...</td>\n",
       "      <td>...</td>\n",
       "      <td>...</td>\n",
       "      <td>...</td>\n",
       "      <td>...</td>\n",
       "      <td>...</td>\n",
       "      <td>...</td>\n",
       "      <td>...</td>\n",
       "      <td>...</td>\n",
       "    </tr>\n",
       "    <tr>\n",
       "      <th>32776</th>\n",
       "      <td>2023-09-30 23:00:00</td>\n",
       "      <td>6010.0</td>\n",
       "      <td>39.500000</td>\n",
       "      <td>47.500000</td>\n",
       "      <td>Сб</td>\n",
       "      <td>NaN</td>\n",
       "      <td>NaN</td>\n",
       "      <td>NaN</td>\n",
       "      <td>NaN</td>\n",
       "      <td>NaN</td>\n",
       "      <td>...</td>\n",
       "      <td>17.6</td>\n",
       "      <td>30.099998</td>\n",
       "      <td>2920.399902</td>\n",
       "      <td>7.0</td>\n",
       "      <td>2.0</td>\n",
       "      <td>24.0</td>\n",
       "      <td>8.6</td>\n",
       "      <td>8.4</td>\n",
       "      <td>7.4</td>\n",
       "      <td>13.6</td>\n",
       "    </tr>\n",
       "    <tr>\n",
       "      <th>32777</th>\n",
       "      <td>2023-09-30 23:00:00</td>\n",
       "      <td>6010.0</td>\n",
       "      <td>39.500000</td>\n",
       "      <td>47.500000</td>\n",
       "      <td>Сб</td>\n",
       "      <td>NaN</td>\n",
       "      <td>NaN</td>\n",
       "      <td>NaN</td>\n",
       "      <td>NaN</td>\n",
       "      <td>NaN</td>\n",
       "      <td>...</td>\n",
       "      <td>17.6</td>\n",
       "      <td>30.099998</td>\n",
       "      <td>2920.399902</td>\n",
       "      <td>7.0</td>\n",
       "      <td>2.0</td>\n",
       "      <td>24.0</td>\n",
       "      <td>8.6</td>\n",
       "      <td>8.4</td>\n",
       "      <td>7.4</td>\n",
       "      <td>13.6</td>\n",
       "    </tr>\n",
       "    <tr>\n",
       "      <th>32778</th>\n",
       "      <td>2023-09-30 23:00:00</td>\n",
       "      <td>6010.0</td>\n",
       "      <td>39.500000</td>\n",
       "      <td>47.500000</td>\n",
       "      <td>Сб</td>\n",
       "      <td>NaN</td>\n",
       "      <td>NaN</td>\n",
       "      <td>NaN</td>\n",
       "      <td>NaN</td>\n",
       "      <td>NaN</td>\n",
       "      <td>...</td>\n",
       "      <td>17.6</td>\n",
       "      <td>30.099998</td>\n",
       "      <td>2920.399902</td>\n",
       "      <td>7.0</td>\n",
       "      <td>2.0</td>\n",
       "      <td>24.0</td>\n",
       "      <td>8.6</td>\n",
       "      <td>8.4</td>\n",
       "      <td>7.4</td>\n",
       "      <td>13.6</td>\n",
       "    </tr>\n",
       "    <tr>\n",
       "      <th>32779</th>\n",
       "      <td>2023-09-30 23:00:00</td>\n",
       "      <td>6010.0</td>\n",
       "      <td>39.500000</td>\n",
       "      <td>47.500000</td>\n",
       "      <td>Сб</td>\n",
       "      <td>NaN</td>\n",
       "      <td>NaN</td>\n",
       "      <td>NaN</td>\n",
       "      <td>NaN</td>\n",
       "      <td>NaN</td>\n",
       "      <td>...</td>\n",
       "      <td>17.6</td>\n",
       "      <td>30.099998</td>\n",
       "      <td>2920.399902</td>\n",
       "      <td>7.0</td>\n",
       "      <td>2.0</td>\n",
       "      <td>24.0</td>\n",
       "      <td>8.6</td>\n",
       "      <td>8.4</td>\n",
       "      <td>7.4</td>\n",
       "      <td>13.6</td>\n",
       "    </tr>\n",
       "    <tr>\n",
       "      <th>32780</th>\n",
       "      <td>2023-09-30 23:00:00</td>\n",
       "      <td>6010.0</td>\n",
       "      <td>39.500000</td>\n",
       "      <td>47.500000</td>\n",
       "      <td>Сб</td>\n",
       "      <td>NaN</td>\n",
       "      <td>NaN</td>\n",
       "      <td>NaN</td>\n",
       "      <td>NaN</td>\n",
       "      <td>NaN</td>\n",
       "      <td>...</td>\n",
       "      <td>17.6</td>\n",
       "      <td>30.099998</td>\n",
       "      <td>2920.399902</td>\n",
       "      <td>7.0</td>\n",
       "      <td>2.0</td>\n",
       "      <td>24.0</td>\n",
       "      <td>8.6</td>\n",
       "      <td>8.4</td>\n",
       "      <td>7.4</td>\n",
       "      <td>13.6</td>\n",
       "    </tr>\n",
       "  </tbody>\n",
       "</table>\n",
       "<p>32781 rows × 823 columns</p>\n",
       "</div>"
      ],
      "text/plain": [
       "                 DateTime  Object_КС-16  Pin_lag_48h_КС-16  \\\n",
       "0     2021-01-01 00:00:00        6010.0          45.700001   \n",
       "1     2021-01-01 01:00:00        6010.0          45.700001   \n",
       "2     2021-01-01 02:00:00        6010.0          46.000000   \n",
       "3     2021-01-01 03:00:00        6010.0          46.000000   \n",
       "4     2021-01-01 04:00:00        6010.0          46.099998   \n",
       "...                   ...           ...                ...   \n",
       "32776 2023-09-30 23:00:00        6010.0          39.500000   \n",
       "32777 2023-09-30 23:00:00        6010.0          39.500000   \n",
       "32778 2023-09-30 23:00:00        6010.0          39.500000   \n",
       "32779 2023-09-30 23:00:00        6010.0          39.500000   \n",
       "32780 2023-09-30 23:00:00        6010.0          39.500000   \n",
       "\n",
       "       Pout_lag_48h_КС-16 dayofweek_КС-16  Object   Tnv  GPAinwork  PNA  \\\n",
       "0               45.700001              Пт  6010.0 -10.0        0.0  NaN   \n",
       "1               45.700001              Пт     NaN   NaN        NaN  NaN   \n",
       "2               46.000000              Пт  6010.0 -11.0        0.0  NaN   \n",
       "3               46.000000              Пт     NaN   NaN        NaN  NaN   \n",
       "4               46.099998              Пт  6010.0 -11.0        0.0  NaN   \n",
       "...                   ...             ...     ...   ...        ...  ...   \n",
       "32776           47.500000              Сб     NaN   NaN        NaN  NaN   \n",
       "32777           47.500000              Сб     NaN   NaN        NaN  NaN   \n",
       "32778           47.500000              Сб     NaN   NaN        NaN  NaN   \n",
       "32779           47.500000              Сб     NaN   NaN        NaN  NaN   \n",
       "32780           47.500000              Сб     NaN   NaN        NaN  NaN   \n",
       "\n",
       "       Schema1  ...  Минимальная_температура_magnitogorsk_rolling_3  \\\n",
       "0          0.0  ...                                           -20.4   \n",
       "1          NaN  ...                                           -20.4   \n",
       "2          0.0  ...                                           -20.4   \n",
       "3          NaN  ...                                           -20.4   \n",
       "4          0.0  ...                                           -20.4   \n",
       "...        ...  ...                                             ...   \n",
       "32776      NaN  ...                                            17.6   \n",
       "32777      NaN  ...                                            17.6   \n",
       "32778      NaN  ...                                            17.6   \n",
       "32779      NaN  ...                                            17.6   \n",
       "32780      NaN  ...                                            17.6   \n",
       "\n",
       "       Средняя_температура_magnitogorsk_rolling_3  \\\n",
       "0                                      -15.100000   \n",
       "1                                      -15.100000   \n",
       "2                                      -15.100000   \n",
       "3                                      -15.100000   \n",
       "4                                      -15.100000   \n",
       "...                                           ...   \n",
       "32776                                   30.099998   \n",
       "32777                                   30.099998   \n",
       "32778                                   30.099998   \n",
       "32779                                   30.099998   \n",
       "32780                                   30.099998   \n",
       "\n",
       "       Атмосферное_давление_magnitogorsk_rolling_3  \\\n",
       "0                                       992.400024   \n",
       "1                                       992.400024   \n",
       "2                                       992.400024   \n",
       "3                                       992.400024   \n",
       "4                                       992.400024   \n",
       "...                                            ...   \n",
       "32776                                  2920.399902   \n",
       "32777                                  2920.399902   \n",
       "32778                                  2920.399902   \n",
       "32779                                  2920.399902   \n",
       "32780                                  2920.399902   \n",
       "\n",
       "       Скорость_ветра_magnitogorsk_rolling_3  Осадки_magnitogorsk_rolling_3  \\\n",
       "0                                        2.0                            0.0   \n",
       "1                                        2.0                            0.0   \n",
       "2                                        2.0                            0.0   \n",
       "3                                        2.0                            0.0   \n",
       "4                                        2.0                            0.0   \n",
       "...                                      ...                            ...   \n",
       "32776                                    7.0                            2.0   \n",
       "32777                                    7.0                            2.0   \n",
       "32778                                    7.0                            2.0   \n",
       "32779                                    7.0                            2.0   \n",
       "32780                                    7.0                            2.0   \n",
       "\n",
       "       Эффективная_температура_magnitogorsk_rolling_3  \\\n",
       "0                                               -19.4   \n",
       "1                                               -19.4   \n",
       "2                                               -19.4   \n",
       "3                                               -19.4   \n",
       "4                                               -19.4   \n",
       "...                                               ...   \n",
       "32776                                            24.0   \n",
       "32777                                            24.0   \n",
       "32778                                            24.0   \n",
       "32779                                            24.0   \n",
       "32780                                            24.0   \n",
       "\n",
       "       Эффективная_температура_magnitogorsk_lag_1  \\\n",
       "0                                             NaN   \n",
       "1                                             NaN   \n",
       "2                                             NaN   \n",
       "3                                             NaN   \n",
       "4                                             NaN   \n",
       "...                                           ...   \n",
       "32776                                         8.6   \n",
       "32777                                         8.6   \n",
       "32778                                         8.6   \n",
       "32779                                         8.6   \n",
       "32780                                         8.6   \n",
       "\n",
       "       Эффективная_температура_magnitogorsk_lag_2  \\\n",
       "0                                             NaN   \n",
       "1                                             NaN   \n",
       "2                                             NaN   \n",
       "3                                             NaN   \n",
       "4                                             NaN   \n",
       "...                                           ...   \n",
       "32776                                         8.4   \n",
       "32777                                         8.4   \n",
       "32778                                         8.4   \n",
       "32779                                         8.4   \n",
       "32780                                         8.4   \n",
       "\n",
       "       Эффективная_температура_magnitogorsk_lag_3  \\\n",
       "0                                             NaN   \n",
       "1                                             NaN   \n",
       "2                                             NaN   \n",
       "3                                             NaN   \n",
       "4                                             NaN   \n",
       "...                                           ...   \n",
       "32776                                         7.4   \n",
       "32777                                         7.4   \n",
       "32778                                         7.4   \n",
       "32779                                         7.4   \n",
       "32780                                         7.4   \n",
       "\n",
       "       Эффективная_температура_magnitogorsk_lag_7  \n",
       "0                                             NaN  \n",
       "1                                             NaN  \n",
       "2                                             NaN  \n",
       "3                                             NaN  \n",
       "4                                             NaN  \n",
       "...                                           ...  \n",
       "32776                                        13.6  \n",
       "32777                                        13.6  \n",
       "32778                                        13.6  \n",
       "32779                                        13.6  \n",
       "32780                                        13.6  \n",
       "\n",
       "[32781 rows x 823 columns]"
      ]
     },
     "execution_count": 11,
     "metadata": {},
     "output_type": "execute_result"
    }
   ],
   "source": [
    "result"
   ]
  },
  {
   "cell_type": "code",
   "execution_count": 12,
   "id": "cbe73a16",
   "metadata": {},
   "outputs": [],
   "source": [
    "# t_set.to_excel(\"КС-15_set_v1.xlsx\",index=None)"
   ]
  }
 ],
 "metadata": {
  "kernelspec": {
   "display_name": "Python 3 (ipykernel)",
   "language": "python",
   "name": "python3"
  },
  "language_info": {
   "codemirror_mode": {
    "name": "ipython",
    "version": 3
   },
   "file_extension": ".py",
   "mimetype": "text/x-python",
   "name": "python",
   "nbconvert_exporter": "python",
   "pygments_lexer": "ipython3",
   "version": "3.11.5"
  }
 },
 "nbformat": 4,
 "nbformat_minor": 5
}
